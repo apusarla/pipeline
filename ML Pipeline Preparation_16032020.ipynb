{
 "cells": [
  {
   "cell_type": "markdown",
   "metadata": {},
   "source": [
    "# ML Pipeline Preparation\n",
    "Follow the instructions below to help you create your ML pipeline.\n",
    "### 1. Import libraries and load data from database.\n",
    "- Import Python libraries\n",
    "- Load dataset from database with [`read_sql_table`](https://pandas.pydata.org/pandas-docs/stable/generated/pandas.read_sql_table.html)\n",
    "- Define feature and target variables X and Y"
   ]
  },
  {
   "cell_type": "code",
   "execution_count": 1,
   "metadata": {},
   "outputs": [
    {
     "name": "stdout",
     "output_type": "stream",
     "text": [
      "[nltk_data] Downloading package stopwords to /root/nltk_data...\n",
      "[nltk_data]   Unzipping corpora/stopwords.zip.\n",
      "[nltk_data] Downloading package punkt to /root/nltk_data...\n",
      "[nltk_data]   Unzipping tokenizers/punkt.zip.\n",
      "[nltk_data] Downloading package wordnet to /root/nltk_data...\n",
      "[nltk_data]   Unzipping corpora/wordnet.zip.\n"
     ]
    }
   ],
   "source": [
    "# import libraries\n",
    "#install scikit-learn==0.22.1\n",
    "import nltk\n",
    "import re\n",
    "nltk.download('stopwords')\n",
    "nltk.download('punkt')\n",
    "nltk.download('wordnet') # download for lemmatization\n",
    "from nltk.corpus import stopwords\n",
    "from nltk.tokenize import word_tokenize\n",
    "\n",
    "import numpy as np\n",
    "from nltk.stem.wordnet import WordNetLemmatizer\n",
    "from sqlalchemy import create_engine\n",
    "import pandas as pd\n",
    "from itertools import chain\n",
    "\n",
    "from sklearn.datasets import make_multilabel_classification\n",
    "from sklearn.ensemble import RandomForestClassifier\n",
    "from sklearn.pipeline import Pipeline\n",
    "from sklearn.feature_extraction.text import CountVectorizer, TfidfTransformer\n",
    "from sklearn.model_selection import train_test_split\n",
    "from sklearn.preprocessing import StandardScaler\n",
    "from sklearn.ensemble import RandomForestRegressor\n",
    "\n",
    "from pprint import pprint\n",
    "from sklearn.model_selection import RandomizedSearchCV\n",
    "from sklearn.multioutput import MultiOutputClassifier\n",
    "\n",
    "\n",
    "\n"
   ]
  },
  {
   "cell_type": "code",
   "execution_count": 2,
   "metadata": {},
   "outputs": [
    {
     "name": "stdout",
     "output_type": "stream",
     "text": [
      "26216 917560\n"
     ]
    },
    {
     "data": {
      "text/plain": [
       "(26216, 35)"
      ]
     },
     "execution_count": 2,
     "metadata": {},
     "output_type": "execute_result"
    }
   ],
   "source": [
    "# load data from database\n",
    "engine = create_engine('sqlite:///Anand_ETL_Pipeline_16022020.db')\n",
    "df = pd.read_sql_table('Cyclone',engine)\n",
    "\n",
    "X = df['message'].values\n",
    "y = df.iloc[:,4:-1]\n",
    "\n",
    "print(X.size,y.size)\n",
    "y.shape"
   ]
  },
  {
   "cell_type": "markdown",
   "metadata": {},
   "source": [
    "### 2. Write a tokenization function to process your text data"
   ]
  },
  {
   "cell_type": "code",
   "execution_count": 3,
   "metadata": {
    "scrolled": false
   },
   "outputs": [],
   "source": [
    "def tokenize(text):\n",
    "    words = []\n",
    "    tokens = []\n",
    "\n",
    "    #normalize\n",
    "    for i in range(len(text)):\n",
    "        if (type(text[i]).__name__ == 'list'):\n",
    "            for j in range(len(text[i])):\n",
    "                words.append([re.sub(r\"[^a-zA-Z]\", \" \", text[i][j].lower())])\n",
    "        else:         \n",
    "            words.append(re.sub(r\"[^a-zA-Z]\", \" \", text[i].lower()))\n",
    "\n",
    "            \n",
    "            \n",
    "    #tokenize        \n",
    "    for i in range(len(words)):\n",
    "        if (type(words[i]).__name__ == 'list'):\n",
    "            for j in range(len(words[i])):\n",
    "                tokens.append(word_tokenize(words[i][j]))\n",
    "        else:         \n",
    "            tokens.append(word_tokenize(words[i]))\n",
    "            \n",
    "    \n",
    "    # putting all tokens in one list rather than leaving them list of lists\n",
    "    tokens = list(chain(*tokens))\n",
    "    \n",
    "    #remove stop words\n",
    "    tokens = [t for t in tokens if t not in stopwords.words(\"english\")]\n",
    "    \n",
    "    #remove duplicate tokens from the list\n",
    "    #tokens = list(set(tokens))\n",
    "    \n",
    "    #lemmatize\n",
    "    # Reduce words to their root form\n",
    "    lemmed_before = [WordNetLemmatizer().lemmatize(w) for w in tokens]\n",
    "    \n",
    "    # Lemmatize verbs by specifying pos\n",
    "    lemmed_after = [WordNetLemmatizer().lemmatize(w, pos='v') for w in lemmed_before]\n",
    "\n",
    "    return lemmed_after"
   ]
  },
  {
   "cell_type": "markdown",
   "metadata": {},
   "source": [
    "### 3. Build a machine learning pipeline\n",
    "This machine pipeline should take in the `message` column as input and output classification results on the other 36 categories in the dataset. You may find the [MultiOutputClassifier](http://scikit-learn.org/stable/modules/generated/sklearn.multioutput.MultiOutputClassifier.html) helpful for predicting multiple target variables."
   ]
  },
  {
   "cell_type": "code",
   "execution_count": 4,
   "metadata": {},
   "outputs": [],
   "source": [
    "# build pipeline\n",
    "pipeline = Pipeline([\n",
    "    ('vect', CountVectorizer(tokenizer=tokenize)),\n",
    "    ('tfidf', TfidfTransformer()),\n",
    "    ('clf', MultiOutputClassifier(RandomForestClassifier()))\n",
    "])\n"
   ]
  },
  {
   "cell_type": "markdown",
   "metadata": {},
   "source": [
    "### 4. Train pipeline\n",
    "- Split data into train and test sets\n",
    "- Train pipeline"
   ]
  },
  {
   "cell_type": "code",
   "execution_count": 5,
   "metadata": {},
   "outputs": [
    {
     "name": "stdout",
     "output_type": "stream",
     "text": [
      "(17564,) (17564, 35) (8652,) (8652, 35)\n"
     ]
    }
   ],
   "source": [
    "#Spliting into Training and Test data sets\n",
    "X_train, X_test, y_train, y_test = train_test_split(X,y,test_size=0.33,random_state=42)\n",
    "\n",
    "###using 1% of actual training set for troubleshooting\n",
    "#X_train = X_train[:len(X_train)/100]\n",
    "#y_train = y_train[:len(y_train)/100]\n",
    "\n",
    "# train classifier\n",
    "pipeline.fit(X_train,y_train)\n",
    "\n",
    "print(X_train.shape, y_train.shape, X_test.shape, y_test.shape)"
   ]
  },
  {
   "cell_type": "code",
   "execution_count": 6,
   "metadata": {},
   "outputs": [],
   "source": [
    "y_pred = pipeline.predict(X_test)"
   ]
  },
  {
   "cell_type": "markdown",
   "metadata": {},
   "source": [
    "# 5. Test your model\n",
    "Report the f1 score, precision and recall for each output category of the dataset. You can do this by iterating through the columns and calling sklearn's `classification_report` on each."
   ]
  },
  {
   "cell_type": "code",
   "execution_count": 7,
   "metadata": {},
   "outputs": [
    {
     "name": "stdout",
     "output_type": "stream",
     "text": [
      "(8652, 35) (8652, 35)\n"
     ]
    }
   ],
   "source": [
    "print(y_pred.shape,y_test.shape)"
   ]
  },
  {
   "cell_type": "code",
   "execution_count": 8,
   "metadata": {},
   "outputs": [
    {
     "name": "stderr",
     "output_type": "stream",
     "text": [
      "/opt/conda/lib/python3.6/site-packages/sklearn/metrics/classification.py:1428: UserWarning: labels size, 2, does not match size of target_names, 3\n",
      "  .format(len(labels), len(target_names))\n",
      "/opt/conda/lib/python3.6/site-packages/sklearn/metrics/classification.py:1135: UndefinedMetricWarning: Precision and F-score are ill-defined and being set to 0.0 in labels with no predicted samples.\n",
      "  'precision', 'predicted', average, warn_for)\n",
      "/opt/conda/lib/python3.6/site-packages/sklearn/metrics/classification.py:1428: UserWarning: labels size, 1, does not match size of target_names, 3\n",
      "  .format(len(labels), len(target_names))\n"
     ]
    }
   ],
   "source": [
    "import pandas\n",
    "from sklearn import model_selection\n",
    "from sklearn.ensemble import RandomForestClassifier\n",
    "from sklearn.metrics import classification_report\n",
    "\n",
    "target_names = ['class 0', 'class 1', 'class 2']\n",
    "\n",
    "metrics = []\n",
    "#print(y_test)\n",
    "for i, col in enumerate(y_test):\n",
    "    report = classification_report(y_test[col],y_pred[:,i],target_names=target_names)\n",
    "    #print(y_test[:i],y_pred[:,i])\n",
    "    #print(col , report)\n",
    "    metrics.append(report)\n",
    "\n",
    "\n",
    "metrics = np.array(metrics)\n",
    "#print(metrics)\n",
    "\n",
    "#metrics_df = pd.DataFrame(data = metrics,  index=None, columns = ['Precision', 'Recall', 'F1', 'Support'])\n",
    "#print(metrics_df)\n",
    "\n"
   ]
  },
  {
   "cell_type": "code",
   "execution_count": 9,
   "metadata": {},
   "outputs": [
    {
     "name": "stdout",
     "output_type": "stream",
     "text": [
      "{'clf': MultiOutputClassifier(estimator=RandomForestClassifier(bootstrap=True, class_weight=None, criterion='gini',\n",
      "            max_depth=None, max_features='auto', max_leaf_nodes=None,\n",
      "            min_impurity_decrease=0.0, min_impurity_split=None,\n",
      "            min_samples_leaf=1, min_samples_split=2,\n",
      "            min_weight_fraction_leaf=0.0, n_estimators=10, n_jobs=1,\n",
      "            oob_score=False, random_state=None, verbose=0,\n",
      "            warm_start=False),\n",
      "           n_jobs=1),\n",
      " 'clf__estimator': RandomForestClassifier(bootstrap=True, class_weight=None, criterion='gini',\n",
      "            max_depth=None, max_features='auto', max_leaf_nodes=None,\n",
      "            min_impurity_decrease=0.0, min_impurity_split=None,\n",
      "            min_samples_leaf=1, min_samples_split=2,\n",
      "            min_weight_fraction_leaf=0.0, n_estimators=10, n_jobs=1,\n",
      "            oob_score=False, random_state=None, verbose=0,\n",
      "            warm_start=False),\n",
      " 'clf__estimator__bootstrap': True,\n",
      " 'clf__estimator__class_weight': None,\n",
      " 'clf__estimator__criterion': 'gini',\n",
      " 'clf__estimator__max_depth': None,\n",
      " 'clf__estimator__max_features': 'auto',\n",
      " 'clf__estimator__max_leaf_nodes': None,\n",
      " 'clf__estimator__min_impurity_decrease': 0.0,\n",
      " 'clf__estimator__min_impurity_split': None,\n",
      " 'clf__estimator__min_samples_leaf': 1,\n",
      " 'clf__estimator__min_samples_split': 2,\n",
      " 'clf__estimator__min_weight_fraction_leaf': 0.0,\n",
      " 'clf__estimator__n_estimators': 10,\n",
      " 'clf__estimator__n_jobs': 1,\n",
      " 'clf__estimator__oob_score': False,\n",
      " 'clf__estimator__random_state': None,\n",
      " 'clf__estimator__verbose': 0,\n",
      " 'clf__estimator__warm_start': False,\n",
      " 'clf__n_jobs': 1,\n",
      " 'memory': None,\n",
      " 'steps': [('vect',\n",
      "            CountVectorizer(analyzer='word', binary=False, decode_error='strict',\n",
      "        dtype=<class 'numpy.int64'>, encoding='utf-8', input='content',\n",
      "        lowercase=True, max_df=1.0, max_features=None, min_df=1,\n",
      "        ngram_range=(1, 1), preprocessor=None, stop_words=None,\n",
      "        strip_accents=None, token_pattern='(?u)\\\\b\\\\w\\\\w+\\\\b',\n",
      "        tokenizer=<function tokenize at 0x7f09b58fd620>, vocabulary=None)),\n",
      "           ('tfidf',\n",
      "            TfidfTransformer(norm='l2', smooth_idf=True, sublinear_tf=False, use_idf=True)),\n",
      "           ('clf',\n",
      "            MultiOutputClassifier(estimator=RandomForestClassifier(bootstrap=True, class_weight=None, criterion='gini',\n",
      "            max_depth=None, max_features='auto', max_leaf_nodes=None,\n",
      "            min_impurity_decrease=0.0, min_impurity_split=None,\n",
      "            min_samples_leaf=1, min_samples_split=2,\n",
      "            min_weight_fraction_leaf=0.0, n_estimators=10, n_jobs=1,\n",
      "            oob_score=False, random_state=None, verbose=0,\n",
      "            warm_start=False),\n",
      "           n_jobs=1))],\n",
      " 'tfidf': TfidfTransformer(norm='l2', smooth_idf=True, sublinear_tf=False, use_idf=True),\n",
      " 'tfidf__norm': 'l2',\n",
      " 'tfidf__smooth_idf': True,\n",
      " 'tfidf__sublinear_tf': False,\n",
      " 'tfidf__use_idf': True,\n",
      " 'vect': CountVectorizer(analyzer='word', binary=False, decode_error='strict',\n",
      "        dtype=<class 'numpy.int64'>, encoding='utf-8', input='content',\n",
      "        lowercase=True, max_df=1.0, max_features=None, min_df=1,\n",
      "        ngram_range=(1, 1), preprocessor=None, stop_words=None,\n",
      "        strip_accents=None, token_pattern='(?u)\\\\b\\\\w\\\\w+\\\\b',\n",
      "        tokenizer=<function tokenize at 0x7f09b58fd620>, vocabulary=None),\n",
      " 'vect__analyzer': 'word',\n",
      " 'vect__binary': False,\n",
      " 'vect__decode_error': 'strict',\n",
      " 'vect__dtype': <class 'numpy.int64'>,\n",
      " 'vect__encoding': 'utf-8',\n",
      " 'vect__input': 'content',\n",
      " 'vect__lowercase': True,\n",
      " 'vect__max_df': 1.0,\n",
      " 'vect__max_features': None,\n",
      " 'vect__min_df': 1,\n",
      " 'vect__ngram_range': (1, 1),\n",
      " 'vect__preprocessor': None,\n",
      " 'vect__stop_words': None,\n",
      " 'vect__strip_accents': None,\n",
      " 'vect__token_pattern': '(?u)\\\\b\\\\w\\\\w+\\\\b',\n",
      " 'vect__tokenizer': <function tokenize at 0x7f09b58fd620>,\n",
      " 'vect__vocabulary': None}\n"
     ]
    }
   ],
   "source": [
    "#####======#########\n",
    "pprint(pipeline.get_params())\n"
   ]
  },
  {
   "cell_type": "markdown",
   "metadata": {},
   "source": [
    "### 6. Improve your model\n",
    "Use grid search to find better parameters. "
   ]
  },
  {
   "cell_type": "code",
   "execution_count": null,
   "metadata": {},
   "outputs": [
    {
     "name": "stdout",
     "output_type": "stream",
     "text": [
      "Fitting 3 folds for each of 2 candidates, totalling 6 fits\n",
      "[CV] tfidf__norm=l1, vect__max_df=1.0, vect__min_df=1 ................\n",
      "[CV] . tfidf__norm=l1, vect__max_df=1.0, vect__min_df=1, total= 9.3min\n",
      "[CV] tfidf__norm=l1, vect__max_df=1.0, vect__min_df=1 ................\n"
     ]
    },
    {
     "name": "stderr",
     "output_type": "stream",
     "text": [
      "[Parallel(n_jobs=-1)]: Done   1 out of   1 | elapsed: 15.2min remaining:    0.0s\n"
     ]
    },
    {
     "name": "stdout",
     "output_type": "stream",
     "text": [
      "[CV] . tfidf__norm=l1, vect__max_df=1.0, vect__min_df=1, total= 9.3min\n",
      "[CV] tfidf__norm=l1, vect__max_df=1.0, vect__min_df=1 ................\n"
     ]
    }
   ],
   "source": [
    "from sklearn.model_selection import GridSearchCV\n",
    "# Create the parameter grid based on the results of random search \n",
    "param_grid = {\n",
    "    'vect__min_df': [1],\n",
    "    'vect__max_df': [1.0],\n",
    "    'tfidf__norm': ['l1','l2']\n",
    "}\n",
    "# Create a based model\n",
    "rf = RandomForestRegressor()\n",
    "# Instantiate the grid search model\n",
    "grid_search = GridSearchCV(estimator = pipeline, param_grid = param_grid,cv = 3, n_jobs = -1, verbose = 2)\n",
    "\n",
    "\n",
    "\n",
    "\n",
    "\n",
    "#from sklearn.model_selection import GridSearchCV\n",
    "#from IPython.core.debugger import set_trace\n",
    "#rf = RandomForestRegressor()\n",
    "\n",
    "#pprint(rf.get_params())\n",
    "\n",
    "\n",
    "# specify parameters for grid search\n",
    "#parameters = {}\n",
    "\n",
    "# Instantiate the grid search model\n",
    "#cv = GridSearchCV(rf, param_grid=parameters,refit=False,return_train_score=False)\n",
    "\n",
    "#pprint(cv)\n",
    "\n",
    "#print(type(X_train))\n",
    "#set_trace()\n",
    "grid_search.fit(X_train, y_train)\n",
    "#set_trace()\n",
    "\n",
    "#cv.best_params_\n",
    "#y_pred2 = cv.predict(X_test)\n",
    "\n",
    "#print(y_pred2)"
   ]
  },
  {
   "cell_type": "code",
   "execution_count": null,
   "metadata": {},
   "outputs": [],
   "source": []
  },
  {
   "cell_type": "markdown",
   "metadata": {},
   "source": [
    "\n",
    "### 7. Test your model\n",
    "Show the accuracy, precision, and recall of the tuned model.  \n",
    "\n",
    "Since this project focuses on code quality, process, and  pipelines, there is no minimum performance metric needed to pass. However, make sure to fine tune your models for accuracy, precision and recall to make your project stand out - especially for your portfolio!\n",
    "\n"
   ]
  },
  {
   "cell_type": "code",
   "execution_count": null,
   "metadata": {},
   "outputs": [],
   "source": [
    "### Test your model\n",
    "\n",
    "from sklearn.preprocessing import label_binarize\n",
    "\n",
    "# Use label_binarize to be multi-label like settings\n",
    "Y = label_binarize(y, classes=[0, 1, 2])\n",
    "n_classes = Y.shape[1]\n",
    "\n",
    "# Split into training and test\n",
    "X_train, X_test, Y_train, Y_test = train_test_split(X, Y, test_size=.5,\n",
    "                                                    random_state=random_state)\n",
    "\n",
    "# We use OneVsRestClassifier for multi-label prediction\n",
    "from sklearn.multiclass import OneVsRestClassifier\n",
    "\n",
    "# Run classifier\n",
    "classifier = OneVsRestClassifier(svm.LinearSVC(random_state=random_state))\n",
    "classifier.fit(X_train, Y_train)\n",
    "y_score = classifier.decision_function(X_test)\n",
    "\n",
    "\n",
    "from sklearn.metrics import precision_recall_curve\n",
    "from sklearn.metrics import average_precision_score\n",
    "\n",
    "# For each class\n",
    "precision = dict()\n",
    "recall = dict()\n",
    "average_precision = dict()\n",
    "for i in range(n_classes):\n",
    "    precision[i], recall[i], _ = precision_recall_curve(Y_test[:, i],\n",
    "                                                        y_score[:, i])\n",
    "    average_precision[i] = average_precision_score(Y_test[:, i], y_score[:, i])\n",
    "\n",
    "# A \"micro-average\": quantifying score on all classes jointly\n",
    "precision[\"micro\"], recall[\"micro\"], _ = precision_recall_curve(Y_test.ravel(),\n",
    "    y_score.ravel())\n",
    "average_precision[\"micro\"] = average_precision_score(Y_test, y_score,\n",
    "                                                     average=\"micro\")\n",
    "print('Average precision score, micro-averaged over all classes: {0:0.2f}'\n",
    "      .format(average_precision[\"micro\"]))"
   ]
  },
  {
   "cell_type": "markdown",
   "metadata": {},
   "source": [
    "### 8. Try improving your model further. Here are a few ideas:\n",
    "* try other machine learning algorithms\n",
    "* add other features besides the TF-IDF"
   ]
  },
  {
   "cell_type": "code",
   "execution_count": null,
   "metadata": {},
   "outputs": [],
   "source": []
  },
  {
   "cell_type": "markdown",
   "metadata": {},
   "source": [
    "### 9. Export your model as a pickle file"
   ]
  },
  {
   "cell_type": "code",
   "execution_count": null,
   "metadata": {},
   "outputs": [],
   "source": [
    "### Export your model as a pickle file\n",
    "import pickle\n",
    "\n",
    "# save the model to disk\n",
    "filename = 'finalized_model.sav'\n",
    "pickle.dump(model, open(filename, 'wb'))\n",
    " \n",
    "# some time later...\n",
    " \n",
    "# load the model from disk\n",
    "loaded_model = pickle.load(open(filename, 'rb'))\n",
    "result = loaded_model.score(X_test, Y_test)\n",
    "print(result)"
   ]
  },
  {
   "cell_type": "markdown",
   "metadata": {},
   "source": [
    "### 10. Use this notebook to complete `train.py`\n",
    "Use the template file attached in the Resources folder to write a script that runs the steps above to create a database and export a model based on a new dataset specified by the user."
   ]
  },
  {
   "cell_type": "code",
   "execution_count": null,
   "metadata": {},
   "outputs": [],
   "source": []
  }
 ],
 "metadata": {
  "kernelspec": {
   "display_name": "Python 3",
   "language": "python",
   "name": "python3"
  },
  "language_info": {
   "codemirror_mode": {
    "name": "ipython",
    "version": 3
   },
   "file_extension": ".py",
   "mimetype": "text/x-python",
   "name": "python",
   "nbconvert_exporter": "python",
   "pygments_lexer": "ipython3",
   "version": "3.6.3"
  }
 },
 "nbformat": 4,
 "nbformat_minor": 2
}
